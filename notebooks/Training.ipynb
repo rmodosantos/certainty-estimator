{
 "cells": [
  {
   "cell_type": "code",
   "execution_count": 1,
   "id": "5eafae55",
   "metadata": {},
   "outputs": [],
   "source": [
    "import torch\n",
    "from torch.utils.data import Dataset, DataLoader\n",
    "import numpy as np\n",
    "import pandas as pd\n",
    "import matplotlib.pyplot as plt"
   ]
  },
  {
   "cell_type": "code",
   "execution_count": 2,
   "id": "1a1b78c9",
   "metadata": {},
   "outputs": [],
   "source": [
    "dev = torch.device(\"cuda:0\")\n",
    "#dev = 'cpu'"
   ]
  },
  {
   "cell_type": "markdown",
   "id": "3ebc4710",
   "metadata": {},
   "source": [
    "## Instantiate the dataset"
   ]
  },
  {
   "cell_type": "code",
   "execution_count": 3,
   "id": "a52d3458",
   "metadata": {},
   "outputs": [],
   "source": [
    "#!pip install IProgress\n",
    "#!pip install torchio\n",
    "#!pip install monai\n",
    "#import torchio as tio\n",
    "from torchvision import transforms"
   ]
  },
  {
   "cell_type": "code",
   "execution_count": 4,
   "id": "b4124774",
   "metadata": {},
   "outputs": [
    {
     "name": "stdout",
     "output_type": "stream",
     "text": [
      "Looking in indexes: https://pypi.org/simple, https://pypi.ngc.nvidia.com\n",
      "Collecting h5py\n",
      "  Downloading h5py-3.11.0-cp310-cp310-manylinux_2_17_x86_64.manylinux2014_x86_64.whl.metadata (2.5 kB)\n",
      "Requirement already satisfied: numpy>=1.17.3 in /usr/local/lib/python3.10/dist-packages (from h5py) (1.24.4)\n",
      "Downloading h5py-3.11.0-cp310-cp310-manylinux_2_17_x86_64.manylinux2014_x86_64.whl (5.3 MB)\n",
      "\u001b[2K   \u001b[90m━━━━━━━━━━━━━━━━━━━━━━━━━━━━━━━━━━━━━━━━\u001b[0m \u001b[32m5.3/5.3 MB\u001b[0m \u001b[31m23.1 MB/s\u001b[0m eta \u001b[36m0:00:00\u001b[0m00:01\u001b[0m00:01\u001b[0m\n",
      "\u001b[?25hInstalling collected packages: h5py\n",
      "Successfully installed h5py-3.11.0\n"
     ]
    }
   ],
   "source": [
    "!pip install h5py"
   ]
  },
  {
   "cell_type": "code",
   "execution_count": 5,
   "id": "fbbdd71f",
   "metadata": {},
   "outputs": [],
   "source": [
    "import sys\n",
    "sys.path.append('../..')\n",
    "from MRI_classification.utils.datasets import MRI_dataset, MRI_dataset_masked\n",
    "from torch.utils.data import random_split\n",
    "import torchvision.transforms as transforms\n",
    "import os\n",
    "import h5py as h5"
   ]
  },
  {
   "cell_type": "code",
   "execution_count": 6,
   "id": "0f809ec6",
   "metadata": {},
   "outputs": [
    {
     "name": "stdout",
     "output_type": "stream",
     "text": [
      "(3048,)\n",
      "tensor([0.7442], device='cuda:0')\n"
     ]
    }
   ],
   "source": [
    "dataset_path = \"/dss/dssfs02/lwp-dss-0001/pr84qa/pr84qa-dss-0000/ricardo/data/MRI_dataset_2/\"\n",
    "\n",
    "#load file with labels\n",
    "with h5.File(os.path.join(dataset_path,'labels.h5'),'r') as label_file:\n",
    "    labels = torch.tensor(label_file['label'])\n",
    "\n",
    "#load indices of small images\n",
    "inds_small = np.load(os.path.join(dataset_path,'small_images_inds.npy'))\n",
    "inds_all = np.setdiff1d(np.arange(1,labels.size()[0]),np.where(inds_small)[0])\n",
    "print(inds_all.shape)\n",
    "#inds_all = torch.arange(0,labels.size()[0])\n",
    "inds_datasets = random_split(inds_all,[0.6,0.4],generator=torch.Generator().manual_seed(42))\n",
    "\n",
    "# Custom transform for normalization\n",
    "class Normalize(object):\n",
    "    def __call__(self, scan):\n",
    "        # Assuming scan is a numpy array\n",
    "        mean = scan.mean()\n",
    "        std = scan.std()\n",
    "        return (scan - mean) / std\n",
    "\n",
    "# Define a custom function to mask the image\n",
    "def random_zero_mask(image, dev, fraction):\n",
    "    \"\"\"\n",
    "    Create a random mask where a fraction of pixels are set to zero.\n",
    "\n",
    "    Args:\n",
    "        image (torch.Tensor): Input image tensor with shape (batch_size, channels, height, width).\n",
    "        fraction (float): Fraction of pixels to set to zero.\n",
    "\n",
    "    Returns:\n",
    "        torch.Tensor: Random mask tensor with the same shape as the input image.\n",
    "    \"\"\"\n",
    "    reduction = 32\n",
    "    mask = torch.rand((int(512/reduction),int(512/reduction)),device=dev) < fraction\n",
    "    mask = torch.where(mask,0,1)\n",
    "\n",
    "    #define resizing transform\n",
    "    resize_transform = transforms.Resize((512,512),interpolation=transforms.InterpolationMode.NEAREST_EXACT,antialias=False)\n",
    "\n",
    "    mask = resize_transform(mask.unsqueeze(0))\n",
    "    masked_image = image * mask\n",
    "    \n",
    "    return masked_image\n",
    "\n",
    "def mask_transform(max_fraction):\n",
    "    fraction = torch.rand((1,),device=dev)*max_fraction\n",
    "    mask = transforms.Lambda(lambda x: random_zero_mask(x, dev, fraction))\n",
    "    print(fraction)\n",
    "    return mask\n",
    "\n",
    "# Create a transform using torchvision.transforms.Lambda\n",
    "#add_noise_transform = transforms.Lambda(lambda x: add_noise(x, dev, std=noise_std))\n",
    "add_mask_transform = mask_transform(0.98)\n",
    "    \n",
    "translation=(0.1, 0.1)\n",
    "scales=(0.9, 1.05)\n",
    "degrees=(-10, 10)\n",
    "\n",
    "#transform_normalize = transforms.Compose([Normalize()])\n",
    "transform_normalize = transforms.Compose([])\n",
    "\n",
    "transform = transforms.Compose([\n",
    "    transforms.RandomHorizontalFlip(),\n",
    "    transforms.RandomVerticalFlip(),\n",
    "    transforms.RandomAffine(degrees=0,translate=translation),\n",
    "    transforms.RandomAffine(degrees=0,scale=scales),\n",
    "    transforms.RandomAffine(degrees=degrees)\n",
    "    #add_mask_transform\n",
    "    #tio.RandomNoise(std=0.1,p=0.5),\n",
    "    #Normalize()\n",
    "#     tio.OneOf([\n",
    "#         tio.RandomNoise(std=0.1),\n",
    "#         tio.ElasticDeformation(sigma_range=(8, 16), max_displacement=10),\n",
    "#     ], p=0.5),\n",
    "])\n",
    "\n",
    "# Create an instance of the MRIDataset\n",
    "transformations = [transform, transform_normalize]\n",
    "datasets = []\n",
    "for i in range(2):\n",
    "    datasets.append(MRI_dataset_masked(dataset_path, torch.tensor(inds_datasets[i]), dev,transforms=transformations[i]))"
   ]
  },
  {
   "cell_type": "code",
   "execution_count": 47,
   "id": "33f3cb4b",
   "metadata": {},
   "outputs": [
    {
     "data": {
      "text/plain": [
       "torch.Size([1, 1, 512, 512])"
      ]
     },
     "execution_count": 47,
     "metadata": {},
     "output_type": "execute_result"
    }
   ],
   "source": [
    "sample[0].size()"
   ]
  },
  {
   "cell_type": "code",
   "execution_count": 48,
   "id": "d36a54fd",
   "metadata": {},
   "outputs": [],
   "source": [
    "imtransf = transform.transforms[5](sample[0][0,:,:,:])"
   ]
  },
  {
   "cell_type": "code",
   "execution_count": 6,
   "id": "e0012049",
   "metadata": {},
   "outputs": [],
   "source": [
    "#plot some images\n",
    "imageloader = iter(DataLoader(datasets[1],batch_size=1))"
   ]
  },
  {
   "cell_type": "code",
   "execution_count": 17,
   "id": "e26bdc3f",
   "metadata": {},
   "outputs": [],
   "source": [
    "sample = next(imageloader)"
   ]
  },
  {
   "cell_type": "code",
   "execution_count": 18,
   "id": "c425dfa1",
   "metadata": {},
   "outputs": [
    {
     "data": {
      "image/png": "[encoded data removed]",
      "text/plain": [
       "<Figure size 640x480 with 1 Axes>"
      ]
     },
     "metadata": {},
     "output_type": "display_data"
    }
   ],
   "source": [
    "plt.imshow(sample[0].squeeze().cpu())\n",
    "plt.show()"
   ]
  },
  {
   "cell_type": "code",
   "execution_count": null,
   "id": "1eb0fc77",
   "metadata": {},
   "outputs": [],
   "source": [
    "fig, ax = plt.subplots(3,3,figsize=(15,15))\n",
    "\n",
    "label_names = ['Meningioma', 'Glioma', 'Pituitary tumor']\n",
    "\n",
    "for i in range(3):\n",
    "    for p in range(3):\n",
    "        sample = next(imageloader)\n",
    "        #print(sample[0].size())\n",
    "        ax[i,p].imshow(sample[0].squeeze().cpu())\n",
    "        ax[i,p].set(title=f\"{int(sample[1])} - {label_names[sample[1]]}\")\n",
    "plt.show()"
   ]
  },
  {
   "cell_type": "markdown",
   "id": "7de4df70",
   "metadata": {},
   "source": [
    "## Train"
   ]
  },
  {
   "cell_type": "code",
   "execution_count": 7,
   "id": "94e9ce40",
   "metadata": {},
   "outputs": [],
   "source": [
    "def trainNet(net, data_train, optimizer,criterion, batch_size=4, epochs=4, printr=False, save_loss=False):\n",
    " \n",
    "    \"\"\"\n",
    "        Function to train a neural network.\n",
    "        This function trains a neural network using the specified training dataset and optimizer. \n",
    "        It performs training for the specified number of epochs, with the option to print the running loss\n",
    "        and save it for analysis.\n",
    "        \n",
    "        Parameters:\n",
    "        - net (nn.Module): The neural network to be trained.\n",
    "        - data_train (torch.utils.data.Dataset): Training dataset.\n",
    "        - optimizer (torch.optim.Optimizer): The optimizer used for training.\n",
    "        - criterion (callable): Loss function to compute the training loss.\n",
    "        - batch_size (int, optional): Size of the mini-batch used in optimization. Defaults to 10.\n",
    "        - epochs (int, optional): Number of training epochs. Defaults to 4.\n",
    "        - ACh_loss (bool, optional): Whether to use ACh-weighted loss. Defaults to False.\n",
    "        - printr (bool, optional): Boolean to determine whether running loss is displayed during execution. Defaults to False.\n",
    "        - save_loss (bool, optional): Boolean to indicate whether to store information about the running loss. Defaults to False.\n",
    "\n",
    "        Returns:\n",
    "        - rloss (list): List of training losses if save_loss is True, otherwise, None.\n",
    "    \n",
    "    \"\"\"\n",
    "    \n",
    "    import time\n",
    "    \n",
    "    net.train()\n",
    "    \n",
    "    # Create data loader object\n",
    "    loader = DataLoader(data_train,batch_size=batch_size, shuffle=True,drop_last=True)\n",
    "\n",
    "    start = time.time()\n",
    "    epoch_start = 0\n",
    "    rloss = []\n",
    "    \n",
    "    \n",
    "    # Go over 1000 training instances (1 epoch) multiple times\n",
    "    for epoch in range(epochs):  \n",
    "\n",
    "        epoch_start += 1\n",
    "        running_loss = 0.0\n",
    "\n",
    "        for i, (image,target) in enumerate(loader):\n",
    "\n",
    "            \n",
    "            # Zero the parameter gradients\n",
    "            optimizer.zero_grad()\n",
    "            \n",
    "            #print(image.size())\n",
    "            # Compute network output\n",
    "            outputs=net(image)\n",
    "            \n",
    "            #print('target',target)\n",
    "            #print('output',outputs)\n",
    "            \n",
    "#             _, _, preds = net.get_prediction_stats(image,n_samples=10, batch_size=batch_size)\n",
    "#             preds2 = preds.view(bsize,-1)\n",
    "#             entropy = torch.zeros((16,)).to(dev)\n",
    "#             for k in range(batch_size):\n",
    "#                 counts = torch.histc(preds2[k,:], bins=40, min=-14, max=10)\n",
    "#                 probs = counts/30\n",
    "#                 entropy[k] = -torch.sum(probs[probs > 0] * torch.log2(probs[probs > 0]))/15\n",
    "            \n",
    "            # Calculate loss\n",
    "            loss = criterion(outputs, target)\n",
    "            #print(loss.item().size())\n",
    "        \n",
    "            #update weights based on backpropagation\n",
    "            loss.backward()\n",
    "            \n",
    "            # Clip to avoid exploding gradients\n",
    "            nn.utils.clip_grad_norm_(net.parameters(), max_norm=1)\n",
    "            \n",
    "            # Update optimizer\n",
    "            optimizer.step()\n",
    "\n",
    "            # Output\n",
    "            if save_loss:\n",
    "                rloss.append(loss.item())\n",
    "\n",
    "            if printr:\n",
    "                # Print statistics\n",
    "                running_loss += loss.item()\n",
    "\n",
    "                if (i+1) % 10 == 0:    # print every 10 mini-batches\n",
    "                    print(f\"[{epoch+1}, {i+1}] loss: {np.round(running_loss/(10),7)}\")\n",
    "\n",
    "                    running_loss = 0.0\n",
    "\n",
    "    end = time.time()\n",
    "\n",
    "    if printr:\n",
    "        print('Finished Training')\n",
    "        print('training time ', end-start)\n",
    "\n",
    "    if save_loss:\n",
    "        return rloss"
   ]
  },
  {
   "cell_type": "code",
   "execution_count": 8,
   "id": "8661ec91",
   "metadata": {},
   "outputs": [],
   "source": [
    "from sklearn.metrics import confusion_matrix, ConfusionMatrixDisplay"
   ]
  },
  {
   "cell_type": "code",
   "execution_count": 9,
   "id": "f8e596cb",
   "metadata": {},
   "outputs": [],
   "source": [
    "def test(net, data, criterion, dropout_p, batch_size=10, printr=False):\n",
    "    \"\"\"Function to test neural network predictions on a given dataset\n",
    "            Inputs:\n",
    "                net: Network to test\n",
    "                sampler: Subset random sampler used to sample validation or test sets\n",
    "                batch_size: size of batchs to compute predictions on\n",
    "                printr: Whether to show performance results\"\"\"\n",
    "\n",
    "    testloader = iter(DataLoader(data,batch_size=batch_size))\n",
    "    #net = net.float()\n",
    "    net.dropout.p = 0\n",
    "    net.to(torch.device(dev))\n",
    "    #net.eval()\n",
    "    \n",
    "    correct = 0\n",
    "    total = 0\n",
    "    labels = []\n",
    "    predicted = []\n",
    "    losses = []\n",
    "    with torch.no_grad():\n",
    "        for _ in range(10):\n",
    "            \n",
    "            image,label = next(testloader)\n",
    "            #compute predictions from the class with max output\n",
    "            outputs=net(image).cpu()\n",
    "            prediction = np.argmax(outputs,axis=1)\n",
    "\n",
    "            total += label.size(0)\n",
    "            correct += (prediction == label.cpu()).sum().item()\n",
    "            \n",
    "            labels.append(list(label.cpu()))\n",
    "            predicted.append(list(prediction))\n",
    "            loss = criterion(outputs,label.cpu()).item()\n",
    "            losses.append(loss)\n",
    "    \n",
    "    #print(total)\n",
    "    #compute confusion matrix\n",
    "    cm = confusion_matrix(labels[0],predicted[0])\n",
    "    \n",
    "    if printr:\n",
    "        print(cm)\n",
    "        print('Accuracy:', 100*correct/total)\n",
    "    \n",
    "    net.dropout.p = dropout_p\n",
    "    \n",
    "    return cm, 100*correct/total, predicted, labels, losses"
   ]
  },
  {
   "cell_type": "code",
   "execution_count": 10,
   "id": "00b23f2a",
   "metadata": {},
   "outputs": [],
   "source": [
    "def SaveCheckpoint(path,bsize,lr,beta1,beta2,epocs):\n",
    "    torch.save({\n",
    "        'model_state_dict': net.state_dict(),\n",
    "        'optimizer_state_dict': optimizer.state_dict(),\n",
    "        'batch_size': bsize,\n",
    "        'learning_rate': lr,\n",
    "        'beta1': beta1,\n",
    "        'beta2': beta2,\n",
    "        'epochs': epocs\n",
    "    },path)"
   ]
  },
  {
   "cell_type": "code",
   "execution_count": 10,
   "id": "111755a2",
   "metadata": {},
   "outputs": [],
   "source": [
    "def load_model(path):\n",
    "    model_dict = torch.load(path,map_location=dev)\n",
    "    state_dict = model_dict['model_state_dict']\n",
    "    #net = resnet18(spatial_dims=2, n_input_channels=1, num_classes=3)\n",
    "    #net = resnet18()\n",
    "    #net.fc = torch.nn.Linear(in_features=net.fc.in_features,out_features=3)\n",
    "    net = UncertaintyResNetPretrained(num_classes=3,dropout_rate=0.15)\n",
    "    net.train()\n",
    "    net.load_state_dict(state_dict)\n",
    "    net.to(dev)\n",
    "    learning_params = {key: model_dict[key] for key in ['learning_rate','batch_size','beta1','beta2','epochs']}\n",
    "    \n",
    "    return net, learning_params"
   ]
  },
  {
   "cell_type": "code",
   "execution_count": 11,
   "id": "54bc0e5d",
   "metadata": {},
   "outputs": [],
   "source": [
    "def load_model(path,dropout_rate):\n",
    "    model_dict = torch.load(path,map_location=dev)\n",
    "#     model_dict['model_state_dict'] = {k.replace('base_model.',''):v\n",
    "#                                    for k,v in model_dict['model_state_dict'].items()}\n",
    "    state_dict = model_dict['model_state_dict']\n",
    "    \n",
    "    #print(state_dict.keys())\n",
    "    #net = resnet18(spatial_dims=2, n_input_channels=1, num_classes=3)\n",
    "    #net = resnet18()\n",
    "    #net.fc = torch.nn.Linear(in_features=net.fc.in_features,out_features=3)\n",
    "    net = UncertaintyResNetPretrained(num_classes=3,dropout_rate=dropout_rate,pretrained_weights=True)\n",
    "    net.load_state_dict(state_dict,strict=False)\n",
    "    net.to(dev)\n",
    "    learning_params = {key: model_dict[key] for key in ['learning_rate','batch_size','beta1','beta2','epochs']}\n",
    "    \n",
    "    return net, learning_params"
   ]
  },
  {
   "cell_type": "code",
   "execution_count": null,
   "id": "6ebfb5e5",
   "metadata": {},
   "outputs": [],
   "source": [
    "def disable_dropout(model):\n",
    "    dropout_modules = [module for module in model.modules() if isinstance(module,torch.nn.Dropout)]\n",
    "[module.eval() for module in dropout_modules] # disable dropout"
   ]
  },
  {
   "cell_type": "code",
   "execution_count": 12,
   "id": "382a031c",
   "metadata": {},
   "outputs": [],
   "source": [
    "#create CNN object\n",
    "import torch.nn as nn\n",
    "import torch.optim as optim\n",
    "import tqdm\n",
    "\n",
    "# Define loss function\n",
    "criterion = nn.CrossEntropyLoss()"
   ]
  },
  {
   "cell_type": "code",
   "execution_count": 13,
   "id": "fdb341dd",
   "metadata": {},
   "outputs": [],
   "source": [
    "from MRI_classification.utils.models import UncertaintyResNetPretrainedBNnoTrack, UncertaintyResNetPretrained, UncertaintyResNetPretrainedSoftmax "
   ]
  },
  {
   "cell_type": "code",
   "execution_count": 14,
   "id": "0b95eca5",
   "metadata": {},
   "outputs": [
    {
     "name": "stdout",
     "output_type": "stream",
     "text": [
      "[1, 10] loss: 1.041075\n",
      "[1, 20] loss: 0.7762403\n",
      "[1, 30] loss: 0.788126\n",
      "[1, 40] loss: 0.6078875\n",
      "[1, 50] loss: 0.5492082\n",
      "[1, 60] loss: 0.6204947\n",
      "[1, 70] loss: 0.5201791\n",
      "[1, 80] loss: 0.5322795\n",
      "[1, 90] loss: 0.5346323\n",
      "[1, 100] loss: 0.5364061\n",
      "[1, 110] loss: 0.5043837\n",
      "Finished Training\n",
      "training time  68.17346358299255\n",
      "Accuracy in the training set: 83.75, loss: 0.3870095208287239\n",
      "Accuracy in the validation set: 80.0, loss: 0.4338769823312759\n",
      "[1, 10] loss: 0.5339803\n",
      "[1, 20] loss: 0.5096669\n",
      "[1, 30] loss: 0.4348818\n",
      "[1, 40] loss: 0.5329181\n",
      "[1, 50] loss: 0.5444189\n",
      "[1, 60] loss: 0.5092281\n",
      "[1, 70] loss: 0.4372976\n",
      "[1, 80] loss: 0.3043475\n",
      "[1, 90] loss: 0.300361\n",
      "[1, 100] loss: 0.3902457\n",
      "[1, 110] loss: 0.5383612\n",
      "Finished Training\n",
      "training time  26.067285537719727\n",
      "Accuracy in the training set: 86.875, loss: 0.38557156175374985\n",
      "Accuracy in the validation set: 87.5, loss: 0.3384978353977203\n",
      "[1, 10] loss: 0.3694459\n",
      "[1, 20] loss: 0.502434\n",
      "[1, 30] loss: 0.3858062\n",
      "[1, 40] loss: 0.4988652\n",
      "[1, 50] loss: 0.2821019\n",
      "[1, 60] loss: 0.3682177\n",
      "[1, 70] loss: 0.3255673\n",
      "[1, 80] loss: 0.4427265\n",
      "[1, 90] loss: 0.4737328\n",
      "[1, 100] loss: 0.5135414\n",
      "[1, 110] loss: 0.333881\n",
      "Finished Training\n",
      "training time  24.168365240097046\n",
      "Accuracy in the training set: 89.375, loss: 0.2510331466794014\n",
      "Accuracy in the validation set: 90.625, loss: 0.28982403725385664\n",
      "[1, 10] loss: 0.363286\n",
      "[1, 20] loss: 0.3613819\n",
      "[1, 30] loss: 0.3942347\n",
      "[1, 40] loss: 0.3775989\n",
      "[1, 50] loss: 0.3567265\n",
      "[1, 60] loss: 0.4099333\n",
      "[1, 70] loss: 0.4079259\n",
      "[1, 80] loss: 0.3673391\n",
      "[1, 90] loss: 0.3812157\n",
      "[1, 100] loss: 0.2656252\n",
      "[1, 110] loss: 0.4213178\n",
      "Finished Training\n",
      "training time  24.03533363342285\n",
      "Accuracy in the training set: 89.375, loss: 0.2914953887462616\n",
      "Accuracy in the validation set: 90.0, loss: 0.3174408122897148\n",
      "[1, 10] loss: 0.4296185\n",
      "[1, 20] loss: 0.3320625\n",
      "[1, 30] loss: 0.3468249\n",
      "[1, 40] loss: 0.3754383\n",
      "[1, 50] loss: 0.3213274\n",
      "[1, 60] loss: 0.3559156\n",
      "[1, 70] loss: 0.2711914\n",
      "[1, 80] loss: 0.3653167\n",
      "[1, 90] loss: 0.3768194\n",
      "[1, 100] loss: 0.2670392\n",
      "[1, 110] loss: 0.46753\n",
      "Finished Training\n",
      "training time  23.771579027175903\n",
      "Accuracy in the training set: 90.625, loss: 0.296937495470047\n",
      "Accuracy in the validation set: 90.0, loss: 0.2792129643261433\n",
      "[1, 10] loss: 0.2664482\n",
      "[1, 20] loss: 0.2841752\n",
      "[1, 30] loss: 0.3276428\n",
      "[1, 40] loss: 0.5372736\n",
      "[1, 50] loss: 0.3421561\n",
      "[1, 60] loss: 0.3259511\n",
      "[1, 70] loss: 0.4525049\n",
      "[1, 80] loss: 0.2582448\n",
      "[1, 90] loss: 0.3661878\n",
      "[1, 100] loss: 0.3024141\n",
      "[1, 110] loss: 0.3395328\n",
      "Finished Training\n",
      "training time  24.426492929458618\n",
      "Accuracy in the training set: 90.0, loss: 0.2974595494568348\n",
      "Accuracy in the validation set: 86.25, loss: 0.3267438065260649\n",
      "[1, 10] loss: 0.4363688\n",
      "[1, 20] loss: 0.3967388\n",
      "[1, 30] loss: 0.3419913\n",
      "[1, 40] loss: 0.2650526\n",
      "[1, 50] loss: 0.3227036\n",
      "[1, 60] loss: 0.4028695\n",
      "[1, 70] loss: 0.2716791\n",
      "[1, 80] loss: 0.3787934\n",
      "[1, 90] loss: 0.3548041\n",
      "[1, 100] loss: 0.3703951\n",
      "[1, 110] loss: 0.2688509\n",
      "Finished Training\n",
      "training time  24.494074821472168\n",
      "Accuracy in the training set: 88.75, loss: 0.24945416413247584\n",
      "Accuracy in the validation set: 90.625, loss: 0.2231539860367775\n",
      "[1, 10] loss: 0.3840181\n",
      "[1, 20] loss: 0.3617896\n",
      "[1, 30] loss: 0.2878327\n",
      "[1, 40] loss: 0.3229634\n",
      "[1, 50] loss: 0.5184642\n",
      "[1, 60] loss: 0.291006\n",
      "[1, 70] loss: 0.3752917\n",
      "[1, 80] loss: 0.1940343\n",
      "[1, 90] loss: 0.1373492\n",
      "[1, 100] loss: 0.4027226\n",
      "[1, 110] loss: 0.3487253\n",
      "Finished Training\n",
      "training time  23.50857424736023\n",
      "Accuracy in the training set: 88.125, loss: 0.28112073615193367\n",
      "Accuracy in the validation set: 90.625, loss: 0.2715062588453293\n",
      "[1, 10] loss: 0.2936945\n",
      "[1, 20] loss: 0.4492937\n",
      "[1, 30] loss: 0.2299258\n",
      "[1, 40] loss: 0.3002135\n",
      "[1, 50] loss: 0.3036373\n",
      "[1, 60] loss: 0.2160624\n",
      "[1, 70] loss: 0.2734071\n",
      "[1, 80] loss: 0.2888795\n",
      "[1, 90] loss: 0.3887528\n",
      "[1, 100] loss: 0.2922065\n",
      "[1, 110] loss: 0.3785248\n",
      "Finished Training\n",
      "training time  23.184850931167603\n",
      "Accuracy in the training set: 92.5, loss: 0.22033064141869546\n",
      "Accuracy in the validation set: 91.25, loss: 0.2759359866380692\n",
      "[1, 10] loss: 0.1740477\n",
      "[1, 20] loss: 0.3773395\n",
      "[1, 30] loss: 0.3065132\n",
      "[1, 40] loss: 0.2917501\n",
      "[1, 50] loss: 0.2959611\n",
      "[1, 60] loss: 0.3077677\n",
      "[1, 70] loss: 0.3475807\n",
      "[1, 80] loss: 0.2953149\n",
      "[1, 90] loss: 0.463039\n",
      "[1, 100] loss: 0.2175091\n",
      "[1, 110] loss: 0.3163658\n",
      "Finished Training\n",
      "training time  23.538180112838745\n",
      "Accuracy in the training set: 88.125, loss: 0.24324654713273047\n",
      "Accuracy in the validation set: 90.0, loss: 0.2599301815032959\n",
      "[1, 10] loss: 0.2531421\n",
      "[1, 20] loss: 0.2523209\n",
      "[1, 30] loss: 0.2124266\n",
      "[1, 40] loss: 0.2317723\n",
      "[1, 50] loss: 0.2896349\n",
      "[1, 60] loss: 0.2867246\n",
      "[1, 70] loss: 0.244044\n",
      "[1, 80] loss: 0.2672633\n",
      "[1, 90] loss: 0.2281629\n",
      "[1, 100] loss: 0.2464734\n",
      "[1, 110] loss: 0.2488386\n",
      "Finished Training\n",
      "training time  23.240312576293945\n",
      "Accuracy in the training set: 90.625, loss: 0.2264404520392418\n",
      "Accuracy in the validation set: 93.125, loss: 0.21620146073400975\n",
      "[1, 10] loss: 0.3357531\n",
      "[1, 20] loss: 0.1945982\n",
      "[1, 30] loss: 0.1878102\n",
      "[1, 40] loss: 0.1477037\n",
      "[1, 50] loss: 0.2238083\n",
      "[1, 60] loss: 0.3119356\n",
      "[1, 70] loss: 0.2249934\n",
      "[1, 80] loss: 0.1572737\n",
      "[1, 90] loss: 0.2722697\n",
      "[1, 100] loss: 0.2021898\n",
      "[1, 110] loss: 0.2739518\n",
      "Finished Training\n",
      "training time  24.0782368183136\n",
      "Accuracy in the training set: 93.125, loss: 0.18303148224949836\n",
      "Accuracy in the validation set: 90.625, loss: 0.21728364527225494\n",
      "[1, 10] loss: 0.1866155\n",
      "[1, 20] loss: 0.188408\n",
      "[1, 30] loss: 0.3201776\n",
      "[1, 40] loss: 0.2930973\n",
      "[1, 50] loss: 0.2005952\n",
      "[1, 60] loss: 0.1540432\n",
      "[1, 70] loss: 0.2094492\n",
      "[1, 80] loss: 0.1735107\n",
      "[1, 90] loss: 0.1571634\n",
      "[1, 100] loss: 0.2263542\n",
      "[1, 110] loss: 0.1937355\n",
      "Finished Training\n",
      "training time  24.845168113708496\n",
      "Accuracy in the training set: 93.75, loss: 0.19072403386235237\n",
      "Accuracy in the validation set: 90.625, loss: 0.26482185646891593\n",
      "[1, 10] loss: 0.1789064\n",
      "[1, 20] loss: 0.1458373\n",
      "[1, 30] loss: 0.2266576\n",
      "[1, 40] loss: 0.1917741\n",
      "[1, 50] loss: 0.2260124\n",
      "[1, 60] loss: 0.2651264\n",
      "[1, 70] loss: 0.2015092\n",
      "[1, 80] loss: 0.1826047\n",
      "[1, 90] loss: 0.1968661\n",
      "[1, 100] loss: 0.1917848\n",
      "[1, 110] loss: 0.1546468\n",
      "Finished Training\n",
      "training time  23.975419282913208\n",
      "Accuracy in the training set: 91.875, loss: 0.19635208360850812\n",
      "Accuracy in the validation set: 92.5, loss: 0.2206491395831108\n",
      "[1, 10] loss: 0.1933216\n",
      "[1, 20] loss: 0.2272451\n",
      "[1, 30] loss: 0.2741327\n",
      "[1, 40] loss: 0.1291587\n",
      "[1, 50] loss: 0.2531496\n",
      "[1, 60] loss: 0.2484508\n",
      "[1, 70] loss: 0.255025\n",
      "[1, 80] loss: 0.2414558\n",
      "[1, 90] loss: 0.1784022\n",
      "[1, 100] loss: 0.1900356\n",
      "[1, 110] loss: 0.2765725\n",
      "Finished Training\n",
      "training time  23.84757900238037\n",
      "Accuracy in the training set: 94.375, loss: 0.1438079420477152\n",
      "Accuracy in the validation set: 93.125, loss: 0.2314623348414898\n",
      "[1, 10] loss: 0.1698918\n",
      "[1, 20] loss: 0.2027576\n",
      "[1, 30] loss: 0.172668\n",
      "[1, 40] loss: 0.2633904\n",
      "[1, 50] loss: 0.2153044\n",
      "[1, 60] loss: 0.1406146\n",
      "[1, 70] loss: 0.2501728\n",
      "[1, 80] loss: 0.1921672\n",
      "[1, 90] loss: 0.1378015\n",
      "[1, 100] loss: 0.3038667\n",
      "[1, 110] loss: 0.1025769\n",
      "Finished Training\n",
      "training time  23.5353364944458\n",
      "Accuracy in the training set: 93.75, loss: 0.16380789466202259\n",
      "Accuracy in the validation set: 88.125, loss: 0.28573141135275365\n",
      "[1, 10] loss: 0.2090675\n",
      "[1, 20] loss: 0.1180544\n",
      "[1, 30] loss: 0.255243\n",
      "[1, 40] loss: 0.2182313\n",
      "[1, 50] loss: 0.192474\n",
      "[1, 60] loss: 0.2031955\n",
      "[1, 70] loss: 0.2281096\n",
      "[1, 80] loss: 0.1425705\n",
      "[1, 90] loss: 0.1783456\n",
      "[1, 100] loss: 0.1965332\n",
      "[1, 110] loss: 0.1906596\n",
      "Finished Training\n",
      "training time  24.231635093688965\n",
      "Accuracy in the training set: 93.125, loss: 0.1880574006587267\n",
      "Accuracy in the validation set: 94.375, loss: 0.20497882403433323\n",
      "[1, 10] loss: 0.2278412\n",
      "[1, 20] loss: 0.2399136\n",
      "[1, 30] loss: 0.239183\n",
      "[1, 40] loss: 0.0814663\n",
      "[1, 50] loss: 0.1671908\n",
      "[1, 60] loss: 0.2133575\n",
      "[1, 70] loss: 0.1180128\n",
      "[1, 80] loss: 0.1442461\n",
      "[1, 90] loss: 0.2116097\n",
      "[1, 100] loss: 0.1967552\n",
      "[1, 110] loss: 0.1725201\n",
      "Finished Training\n",
      "training time  24.14364767074585\n",
      "Accuracy in the training set: 91.875, loss: 0.15868632234632968\n",
      "Accuracy in the validation set: 91.25, loss: 0.2590927368029952\n",
      "[1, 10] loss: 0.1698136\n",
      "[1, 20] loss: 0.235628\n",
      "[1, 30] loss: 0.235995\n",
      "[1, 40] loss: 0.1419952\n",
      "[1, 50] loss: 0.148778\n",
      "[1, 60] loss: 0.2104308\n",
      "[1, 70] loss: 0.1676148\n",
      "[1, 80] loss: 0.1616392\n",
      "[1, 90] loss: 0.3185336\n",
      "[1, 100] loss: 0.1798358\n",
      "[1, 110] loss: 0.1337801\n",
      "Finished Training\n",
      "training time  26.10248112678528\n",
      "Accuracy in the training set: 92.5, loss: 0.1863280337303877\n",
      "Accuracy in the validation set: 93.75, loss: 0.23417320400476455\n",
      "[1, 10] loss: 0.2297808\n",
      "[1, 20] loss: 0.2323852\n",
      "[1, 30] loss: 0.1723855\n",
      "[1, 40] loss: 0.2316431\n",
      "[1, 50] loss: 0.2138702\n",
      "[1, 60] loss: 0.1592471\n",
      "[1, 70] loss: 0.1601688\n",
      "[1, 80] loss: 0.1495419\n",
      "[1, 90] loss: 0.2221397\n",
      "[1, 100] loss: 0.115108\n",
      "[1, 110] loss: 0.2202713\n",
      "Finished Training\n",
      "training time  24.764249563217163\n",
      "Accuracy in the training set: 92.5, loss: 0.16195051670074462\n",
      "Accuracy in the validation set: 93.75, loss: 0.21619591638445854\n"
     ]
    }
   ],
   "source": [
    "#from monai.networks.nets import resnet18, resnet50\n",
    "from torchvision.models import resnet18, ResNet18_Weights\n",
    "bsize = 16\n",
    "epoc = 1\n",
    "dropout_p = 0\n",
    "model_path = '/dss/dssfs02/lwp-dss-0001/pr84qa/pr84qa-dss-0000/ricardo/data/Projects/MRI_classification/models/resnet18/pretrained/dropout_allconvs/dp_rate_0_nonorm_masked_extendedtrain06/29_05_2024'\n",
    "\n",
    "if not os.path.isdir(model_path):\n",
    "    os.makedirs(model_path)\n",
    "\n",
    "net = UncertaintyResNetPretrained(num_classes=3,dropout_rate=dropout_p,pretrained_weights=True)\n",
    "net = net.to(dev)\n",
    "#net = resnet18(weights=ResNet18_Weights.DEFAULT)\n",
    "#net.fc = torch.nn.Linear(in_features=net.fc.in_features,out_features=3)\n",
    "#net = net.to(dev)\n",
    "#net = resnet18(pretrained=True)\n",
    "#net = resnet50(spatial_dims=2, n_input_channels=1, num_classes=3).to(dev)\n",
    "#net, learn_params = load_model(os.path.join(model_path,'resnet18_epoc_10'),dropout_p)\n",
    "\n",
    "learn_params = {key: [] for key in ['learning_rate','beta1','beta2']}\n",
    "\n",
    "lrs = np.concatenate((np.tile(1e-4,10),np.tile(1e-5,10)))\n",
    "\n",
    "for i in np.arange(20):\n",
    "    #lr = 1e-5\n",
    "    lr = lrs[i]\n",
    "    beta1 = 0.95\n",
    "    beta2 = 0.999\n",
    "    epocs = int(epoc*(i+1))\n",
    "    \n",
    "    #create optimizer\n",
    "    optimizer = optim.Adam(net.parameters(),lr=lr,betas=(beta1,beta2))\n",
    "    \n",
    "    learn_params['learning_rate'].append(lr)\n",
    "    learn_params['beta1'].append(beta1)\n",
    "    learn_params['beta2'].append(beta2)\n",
    "    \n",
    "    #train\n",
    "    loss_nlayers = trainNet(net,datasets[0],optimizer,criterion,batch_size=bsize,epochs=epoc,printr=True,save_loss=False)\n",
    "    _, accuracy_train, _, _, loss_train = test(net,datasets[0],criterion,dropout_p,batch_size=bsize,printr=False)\n",
    "    print(f\"Accuracy in the training set: {accuracy_train}, loss: {np.mean(loss_train)}\")\n",
    "    \n",
    "    _, accuracy_val, _, _, loss_val = test(net,datasets[1],criterion,dropout_p,batch_size=bsize,printr=False)\n",
    "    print(f\"Accuracy in the validation set: {accuracy_val}, loss: {np.mean(loss_val)}\")\n",
    "    \n",
    "    SaveCheckpoint(os.path.join(model_path,f\"resnet18_epoc_{epocs}\"),bsize,learn_params['learning_rate'],learn_params['beta1'],learn_params['beta2'],epocs)"
   ]
  },
  {
   "cell_type": "code",
   "execution_count": 15,
   "id": "9b334a4a",
   "metadata": {},
   "outputs": [],
   "source": [
    "sample = next(imageloader)"
   ]
  },
  {
   "cell_type": "code",
   "execution_count": null,
   "id": "ddeae70e",
   "metadata": {},
   "outputs": [],
   "source": [
    "dropout_p = 0.25\n",
    "net = UncertaintyResNetPretrained(num_classes=3,dropout_rate=dropout_p,pretrained_weights=True)\n",
    "net = net.to(dev)"
   ]
  },
  {
   "cell_type": "markdown",
   "id": "aee69550",
   "metadata": {},
   "source": [
    "## Check model checkpoint performance"
   ]
  },
  {
   "cell_type": "code",
   "execution_count": 15,
   "id": "f46d84eb",
   "metadata": {},
   "outputs": [
    {
     "name": "stdout",
     "output_type": "stream",
     "text": [
      "Calculating accuracies for model at epoch 1\n"
     ]
    },
    {
     "name": "stderr",
     "output_type": "stream",
     "text": [
      "Training set: 100%|██████████| 20/20 [00:21<00:00,  1.08s/it]\n",
      "Validation set: 100%|██████████| 20/20 [00:16<00:00,  1.23it/s]\n"
     ]
    },
    {
     "name": "stdout",
     "output_type": "stream",
     "text": [
      "Calculating accuracies for model at epoch 2\n"
     ]
    },
    {
     "name": "stderr",
     "output_type": "stream",
     "text": [
      "Training set: 100%|██████████| 20/20 [00:21<00:00,  1.08s/it]\n",
      "Validation set: 100%|██████████| 20/20 [00:16<00:00,  1.23it/s]\n"
     ]
    },
    {
     "name": "stdout",
     "output_type": "stream",
     "text": [
      "Calculating accuracies for model at epoch 3\n"
     ]
    },
    {
     "name": "stderr",
     "output_type": "stream",
     "text": [
      "Training set: 100%|██████████| 20/20 [00:21<00:00,  1.08s/it]\n",
      "Validation set: 100%|██████████| 20/20 [00:16<00:00,  1.23it/s]\n"
     ]
    },
    {
     "name": "stdout",
     "output_type": "stream",
     "text": [
      "Calculating accuracies for model at epoch 4\n"
     ]
    },
    {
     "name": "stderr",
     "output_type": "stream",
     "text": [
      "Training set: 100%|██████████| 20/20 [00:21<00:00,  1.08s/it]\n",
      "Validation set: 100%|██████████| 20/20 [00:16<00:00,  1.23it/s]\n"
     ]
    },
    {
     "name": "stdout",
     "output_type": "stream",
     "text": [
      "Calculating accuracies for model at epoch 5\n"
     ]
    },
    {
     "name": "stderr",
     "output_type": "stream",
     "text": [
      "Training set: 100%|██████████| 20/20 [00:21<00:00,  1.08s/it]\n",
      "Validation set: 100%|██████████| 20/20 [00:16<00:00,  1.23it/s]\n"
     ]
    },
    {
     "name": "stdout",
     "output_type": "stream",
     "text": [
      "Calculating accuracies for model at epoch 6\n"
     ]
    },
    {
     "name": "stderr",
     "output_type": "stream",
     "text": [
      "Training set: 100%|██████████| 20/20 [00:21<00:00,  1.08s/it]\n",
      "Validation set: 100%|██████████| 20/20 [00:16<00:00,  1.23it/s]\n"
     ]
    },
    {
     "name": "stdout",
     "output_type": "stream",
     "text": [
      "Calculating accuracies for model at epoch 7\n"
     ]
    },
    {
     "name": "stderr",
     "output_type": "stream",
     "text": [
      "Training set: 100%|██████████| 20/20 [00:21<00:00,  1.08s/it]\n",
      "Validation set: 100%|██████████| 20/20 [00:16<00:00,  1.23it/s]\n"
     ]
    },
    {
     "name": "stdout",
     "output_type": "stream",
     "text": [
      "Calculating accuracies for model at epoch 8\n"
     ]
    },
    {
     "name": "stderr",
     "output_type": "stream",
     "text": [
      "Training set: 100%|██████████| 20/20 [00:21<00:00,  1.08s/it]\n",
      "Validation set: 100%|██████████| 20/20 [00:16<00:00,  1.23it/s]\n"
     ]
    },
    {
     "name": "stdout",
     "output_type": "stream",
     "text": [
      "Calculating accuracies for model at epoch 9\n"
     ]
    },
    {
     "name": "stderr",
     "output_type": "stream",
     "text": [
      "Training set: 100%|██████████| 20/20 [00:21<00:00,  1.08s/it]\n",
      "Validation set: 100%|██████████| 20/20 [00:16<00:00,  1.23it/s]\n"
     ]
    },
    {
     "name": "stdout",
     "output_type": "stream",
     "text": [
      "Calculating accuracies for model at epoch 10\n"
     ]
    },
    {
     "name": "stderr",
     "output_type": "stream",
     "text": [
      "Training set: 100%|██████████| 20/20 [00:21<00:00,  1.08s/it]\n",
      "Validation set: 100%|██████████| 20/20 [00:16<00:00,  1.23it/s]\n"
     ]
    },
    {
     "name": "stdout",
     "output_type": "stream",
     "text": [
      "Calculating accuracies for model at epoch 11\n"
     ]
    },
    {
     "name": "stderr",
     "output_type": "stream",
     "text": [
      "Training set: 100%|██████████| 20/20 [00:21<00:00,  1.08s/it]\n",
      "Validation set: 100%|██████████| 20/20 [00:16<00:00,  1.23it/s]\n"
     ]
    },
    {
     "name": "stdout",
     "output_type": "stream",
     "text": [
      "Calculating accuracies for model at epoch 12\n"
     ]
    },
    {
     "name": "stderr",
     "output_type": "stream",
     "text": [
      "Training set: 100%|██████████| 20/20 [00:21<00:00,  1.08s/it]\n",
      "Validation set: 100%|██████████| 20/20 [00:16<00:00,  1.23it/s]\n"
     ]
    },
    {
     "name": "stdout",
     "output_type": "stream",
     "text": [
      "Calculating accuracies for model at epoch 13\n"
     ]
    },
    {
     "name": "stderr",
     "output_type": "stream",
     "text": [
      "Training set: 100%|██████████| 20/20 [00:21<00:00,  1.08s/it]\n",
      "Validation set: 100%|██████████| 20/20 [00:16<00:00,  1.22it/s]\n"
     ]
    },
    {
     "name": "stdout",
     "output_type": "stream",
     "text": [
      "Calculating accuracies for model at epoch 14\n"
     ]
    },
    {
     "name": "stderr",
     "output_type": "stream",
     "text": [
      "Training set: 100%|██████████| 20/20 [00:21<00:00,  1.09s/it]\n",
      "Validation set: 100%|██████████| 20/20 [00:16<00:00,  1.23it/s]\n"
     ]
    },
    {
     "name": "stdout",
     "output_type": "stream",
     "text": [
      "Calculating accuracies for model at epoch 15\n"
     ]
    },
    {
     "name": "stderr",
     "output_type": "stream",
     "text": [
      "Training set: 100%|██████████| 20/20 [00:21<00:00,  1.09s/it]\n",
      "Validation set: 100%|██████████| 20/20 [00:16<00:00,  1.23it/s]\n"
     ]
    },
    {
     "name": "stdout",
     "output_type": "stream",
     "text": [
      "Calculating accuracies for model at epoch 16\n"
     ]
    },
    {
     "name": "stderr",
     "output_type": "stream",
     "text": [
      "Training set: 100%|██████████| 20/20 [00:21<00:00,  1.08s/it]\n",
      "Validation set: 100%|██████████| 20/20 [00:16<00:00,  1.23it/s]\n"
     ]
    },
    {
     "name": "stdout",
     "output_type": "stream",
     "text": [
      "Calculating accuracies for model at epoch 17\n"
     ]
    },
    {
     "name": "stderr",
     "output_type": "stream",
     "text": [
      "Training set: 100%|██████████| 20/20 [00:21<00:00,  1.09s/it]\n",
      "Validation set: 100%|██████████| 20/20 [00:16<00:00,  1.23it/s]\n"
     ]
    },
    {
     "name": "stdout",
     "output_type": "stream",
     "text": [
      "Calculating accuracies for model at epoch 18\n"
     ]
    },
    {
     "name": "stderr",
     "output_type": "stream",
     "text": [
      "Training set: 100%|██████████| 20/20 [00:21<00:00,  1.08s/it]\n",
      "Validation set: 100%|██████████| 20/20 [00:16<00:00,  1.23it/s]\n"
     ]
    },
    {
     "name": "stdout",
     "output_type": "stream",
     "text": [
      "Calculating accuracies for model at epoch 19\n"
     ]
    },
    {
     "name": "stderr",
     "output_type": "stream",
     "text": [
      "Training set: 100%|██████████| 20/20 [00:21<00:00,  1.09s/it]\n",
      "Validation set: 100%|██████████| 20/20 [00:16<00:00,  1.23it/s]\n"
     ]
    },
    {
     "name": "stdout",
     "output_type": "stream",
     "text": [
      "Calculating accuracies for model at epoch 20\n"
     ]
    },
    {
     "name": "stderr",
     "output_type": "stream",
     "text": [
      "Training set: 100%|██████████| 20/20 [00:21<00:00,  1.08s/it]\n",
      "Validation set: 100%|██████████| 20/20 [00:16<00:00,  1.24it/s]\n"
     ]
    }
   ],
   "source": [
    "#load checkpoints and compute accuracy\n",
    "performance = {}\n",
    "meas_names = ['accuracies','losses']\n",
    "dataset_names = ['Train','Val']\n",
    "#epocs=2\n",
    "#model_path = '/dss/dssfs02/lwp-dss-0001/pr84qa/pr84qa-dss-0000/ricardo/data/Projects/MRI_classification/models/resnet18/pretrained/dropout/25_03_2024'\n",
    "\n",
    "\n",
    "for meas in meas_names:\n",
    "    performance[meas] = {}\n",
    "    for name in dataset_names:\n",
    "        performance[meas][name] = {}\n",
    "\n",
    "for epoc_nr in range(1,int(epocs)+1,1):\n",
    "    check_path = os.path.join(model_path,f\"resnet18_epoc_{epoc_nr}\")\n",
    "    net, _ = load_model(check_path,dropout_rate=dropout_p)\n",
    "    print(f\"Calculating accuracies for model at epoch {epoc_nr}\")\n",
    "    \n",
    "    accs = []\n",
    "    loss = []\n",
    "    for i in tqdm.trange(20,desc='Training set'):\n",
    "        _, acc, _, _, los = test(net,datasets[0],criterion,dropout_p,batch_size=16,printr=False)\n",
    "        accs.append(acc)\n",
    "        loss.append(los)\n",
    "    performance['accuracies']['Train'][epoc_nr] = np.array(accs)\n",
    "    performance['losses']['Train'][epoc_nr] = np.array(loss)\n",
    "    \n",
    "    accs = []\n",
    "    loss = []\n",
    "    for i in tqdm.trange(20,desc='Validation set'):\n",
    "        _, acc, _, _, los = test(net,datasets[1],criterion,dropout_p,batch_size=16,printr=False)\n",
    "        accs.append(acc)\n",
    "        loss.append(los)\n",
    "    performance['accuracies']['Val'][epoc_nr] = np.array(accs)\n",
    "    performance['losses']['Val'][epoc_nr] = np.array(loss)"
   ]
  },
  {
   "cell_type": "code",
   "execution_count": 16,
   "id": "af8ea093",
   "metadata": {},
   "outputs": [],
   "source": [
    "#save dictionary\n",
    "torch.save(performance,os.path.join(model_path,'performance.pth'))"
   ]
  },
  {
   "cell_type": "code",
   "execution_count": 16,
   "id": "d4a530d1",
   "metadata": {},
   "outputs": [
    {
     "ename": "FileNotFoundError",
     "evalue": "[Errno 2] No such file or directory: '/dss/dssfs02/lwp-dss-0001/pr84qa/pr84qa-dss-0000/ricardo/data/Projects/MRI_classification/models/resnet18/pretrained/dropout_allconvs/dp_rate_025/27_03_2024/performance.pth'",
     "output_type": "error",
     "traceback": [
      "\u001b[0;31m---------------------------------------------------------------------------\u001b[0m",
      "\u001b[0;31mFileNotFoundError\u001b[0m                         Traceback (most recent call last)",
      "Cell \u001b[0;32mIn[16], line 1\u001b[0m\n\u001b[0;32m----> 1\u001b[0m performance \u001b[38;5;241m=\u001b[39m \u001b[43mtorch\u001b[49m\u001b[38;5;241;43m.\u001b[39;49m\u001b[43mload\u001b[49m\u001b[43m(\u001b[49m\u001b[43mos\u001b[49m\u001b[38;5;241;43m.\u001b[39;49m\u001b[43mpath\u001b[49m\u001b[38;5;241;43m.\u001b[39;49m\u001b[43mjoin\u001b[49m\u001b[43m(\u001b[49m\u001b[43mmodel_path\u001b[49m\u001b[43m,\u001b[49m\u001b[38;5;124;43m'\u001b[39;49m\u001b[38;5;124;43mperformance.pth\u001b[39;49m\u001b[38;5;124;43m'\u001b[39;49m\u001b[43m)\u001b[49m\u001b[43m)\u001b[49m\n",
      "File \u001b[0;32m/usr/local/lib/python3.10/dist-packages/torch/serialization.py:997\u001b[0m, in \u001b[0;36mload\u001b[0;34m(f, map_location, pickle_module, weights_only, mmap, **pickle_load_args)\u001b[0m\n\u001b[1;32m    994\u001b[0m \u001b[38;5;28;01mif\u001b[39;00m \u001b[38;5;124m'\u001b[39m\u001b[38;5;124mencoding\u001b[39m\u001b[38;5;124m'\u001b[39m \u001b[38;5;129;01mnot\u001b[39;00m \u001b[38;5;129;01min\u001b[39;00m pickle_load_args\u001b[38;5;241m.\u001b[39mkeys():\n\u001b[1;32m    995\u001b[0m     pickle_load_args[\u001b[38;5;124m'\u001b[39m\u001b[38;5;124mencoding\u001b[39m\u001b[38;5;124m'\u001b[39m] \u001b[38;5;241m=\u001b[39m \u001b[38;5;124m'\u001b[39m\u001b[38;5;124mutf-8\u001b[39m\u001b[38;5;124m'\u001b[39m\n\u001b[0;32m--> 997\u001b[0m \u001b[38;5;28;01mwith\u001b[39;00m \u001b[43m_open_file_like\u001b[49m\u001b[43m(\u001b[49m\u001b[43mf\u001b[49m\u001b[43m,\u001b[49m\u001b[43m \u001b[49m\u001b[38;5;124;43m'\u001b[39;49m\u001b[38;5;124;43mrb\u001b[39;49m\u001b[38;5;124;43m'\u001b[39;49m\u001b[43m)\u001b[49m \u001b[38;5;28;01mas\u001b[39;00m opened_file:\n\u001b[1;32m    998\u001b[0m     \u001b[38;5;28;01mif\u001b[39;00m _is_zipfile(opened_file):\n\u001b[1;32m    999\u001b[0m         \u001b[38;5;66;03m# The zipfile reader is going to advance the current file position.\u001b[39;00m\n\u001b[1;32m   1000\u001b[0m         \u001b[38;5;66;03m# If we want to actually tail call to torch.jit.load, we need to\u001b[39;00m\n\u001b[1;32m   1001\u001b[0m         \u001b[38;5;66;03m# reset back to the original position.\u001b[39;00m\n\u001b[1;32m   1002\u001b[0m         orig_position \u001b[38;5;241m=\u001b[39m opened_file\u001b[38;5;241m.\u001b[39mtell()\n",
      "File \u001b[0;32m/usr/local/lib/python3.10/dist-packages/torch/serialization.py:444\u001b[0m, in \u001b[0;36m_open_file_like\u001b[0;34m(name_or_buffer, mode)\u001b[0m\n\u001b[1;32m    442\u001b[0m \u001b[38;5;28;01mdef\u001b[39;00m \u001b[38;5;21m_open_file_like\u001b[39m(name_or_buffer, mode):\n\u001b[1;32m    443\u001b[0m     \u001b[38;5;28;01mif\u001b[39;00m _is_path(name_or_buffer):\n\u001b[0;32m--> 444\u001b[0m         \u001b[38;5;28;01mreturn\u001b[39;00m \u001b[43m_open_file\u001b[49m\u001b[43m(\u001b[49m\u001b[43mname_or_buffer\u001b[49m\u001b[43m,\u001b[49m\u001b[43m \u001b[49m\u001b[43mmode\u001b[49m\u001b[43m)\u001b[49m\n\u001b[1;32m    445\u001b[0m     \u001b[38;5;28;01melse\u001b[39;00m:\n\u001b[1;32m    446\u001b[0m         \u001b[38;5;28;01mif\u001b[39;00m \u001b[38;5;124m'\u001b[39m\u001b[38;5;124mw\u001b[39m\u001b[38;5;124m'\u001b[39m \u001b[38;5;129;01min\u001b[39;00m mode:\n",
      "File \u001b[0;32m/usr/local/lib/python3.10/dist-packages/torch/serialization.py:425\u001b[0m, in \u001b[0;36m_open_file.__init__\u001b[0;34m(self, name, mode)\u001b[0m\n\u001b[1;32m    424\u001b[0m \u001b[38;5;28;01mdef\u001b[39;00m \u001b[38;5;21m__init__\u001b[39m(\u001b[38;5;28mself\u001b[39m, name, mode):\n\u001b[0;32m--> 425\u001b[0m     \u001b[38;5;28msuper\u001b[39m()\u001b[38;5;241m.\u001b[39m\u001b[38;5;21m__init__\u001b[39m(\u001b[38;5;28;43mopen\u001b[39;49m\u001b[43m(\u001b[49m\u001b[43mname\u001b[49m\u001b[43m,\u001b[49m\u001b[43m \u001b[49m\u001b[43mmode\u001b[49m\u001b[43m)\u001b[49m)\n",
      "\u001b[0;31mFileNotFoundError\u001b[0m: [Errno 2] No such file or directory: '/dss/dssfs02/lwp-dss-0001/pr84qa/pr84qa-dss-0000/ricardo/data/Projects/MRI_classification/models/resnet18/pretrained/dropout_allconvs/dp_rate_025/27_03_2024/performance.pth'"
     ]
    }
   ],
   "source": [
    "performance = torch.load(os.path.join(model_path,'performance.pth'))"
   ]
  },
  {
   "cell_type": "code",
   "execution_count": 27,
   "id": "4d8916ed",
   "metadata": {},
   "outputs": [],
   "source": [
    "model_dict = torch.load(os.path.join(model_path,'resnet18_epoc_1'),map_location=dev)"
   ]
  },
  {
   "cell_type": "code",
   "execution_count": 17,
   "id": "12177528",
   "metadata": {},
   "outputs": [],
   "source": [
    "import scipy.stats as stats\n",
    "\n",
    "stats_model = {}\n",
    "for meas in meas_names:\n",
    "    stats_model[meas] = {}\n",
    "    for name in dataset_names:\n",
    "        stats_model[meas][name] = {}\n",
    "        stats_model[meas][name]['Mean'] = []\n",
    "        stats_model[meas][name]['CI'] = []\n",
    "                \n",
    "for epoc_nr in np.arange(1,epocs+1,1):\n",
    "    for meas in meas_names:\n",
    "        for name in dataset_names:\n",
    "            ndims = np.ndim(performance[meas][name][epoc_nr])\n",
    "            n_freedom = performance[meas][name][epoc_nr].shape[0]-1\n",
    "            if meas == 'losses':\n",
    "                data = np.mean(performance[meas][name][epoc_nr],axis=1)\n",
    "            else:\n",
    "                data = performance[meas][name][epoc_nr]\n",
    "            #print(data)\n",
    "            mean_tm = np.mean(data)\n",
    "            stats_model[meas][name]['Mean'].append(mean_tm)\n",
    "            cint = stats.t.interval(0.95,n_freedom,loc=0,scale=stats.sem(data))\n",
    "            stats_model[meas][name]['CI'].append(cint[1])"
   ]
  },
  {
   "cell_type": "code",
   "execution_count": 46,
   "id": "6dca9708",
   "metadata": {},
   "outputs": [],
   "source": [
    "epocs=10"
   ]
  },
  {
   "cell_type": "code",
   "execution_count": 18,
   "id": "8edc7a8d",
   "metadata": {},
   "outputs": [
    {
     "data": {
      "image/png": "[encoded data removed]",
      "text/plain": [
       "<Figure size 900x400 with 2 Axes>"
      ]
     },
     "metadata": {},
     "output_type": "display_data"
    }
   ],
   "source": [
    "fig, ax = plt.subplots(1,2, figsize=(9,4))\n",
    "\n",
    "for i,meas in enumerate(meas_names):\n",
    "    for name in dataset_names:\n",
    "        ax[i].errorbar(np.arange(1,epocs+1,1),stats_model[meas][name]['Mean'],yerr=stats_model[meas][name]['CI'],\n",
    "                       marker='o',capsize=4)\n",
    "    ax[i].legend(dataset_names)\n",
    "    ax[i].set(title=meas)\n",
    "    \n",
    "plt.tight_layout(w_pad=2)\n",
    "plt.show()"
   ]
  },
  {
   "cell_type": "code",
   "execution_count": null,
   "id": "154bc8be",
   "metadata": {},
   "outputs": [],
   "source": [
    "net.base_model."
   ]
  },
  {
   "cell_type": "code",
   "execution_count": 39,
   "id": "6caabb82",
   "metadata": {},
   "outputs": [
    {
     "data": {
      "text/plain": [
       "94.25"
      ]
     },
     "execution_count": 39,
     "metadata": {},
     "output_type": "execute_result"
    }
   ],
   "source": [
    "np.max(stats_model['accuracies']['Val']['Mean'])"
   ]
  },
  {
   "cell_type": "code",
   "execution_count": null,
   "id": "88875091",
   "metadata": {},
   "outputs": [],
   "source": [
    "#test accuracy on training data\n",
    "cmatrix, accuracy, predictions, labels, = test(net,datasets[0],batch_size=16,printr=True)"
   ]
  },
  {
   "cell_type": "code",
   "execution_count": 19,
   "id": "8d50981e",
   "metadata": {},
   "outputs": [
    {
     "name": "stdout",
     "output_type": "stream",
     "text": [
      "160\n",
      "[[4 0 0]\n",
      " [6 0 0]\n",
      " [1 0 5]]\n",
      "Accuracy: 58.125\n"
     ]
    }
   ],
   "source": [
    "#test accuracy on validation data\n",
    "cmatrix, accuracy, predictions, labels, = test(net,datasets[1],batch_size=16,printr=True)"
   ]
  },
  {
   "cell_type": "code",
   "execution_count": 20,
   "id": "6de644dd",
   "metadata": {},
   "outputs": [
    {
     "name": "stdout",
     "output_type": "stream",
     "text": [
      "160\n",
      "[[2 0 2]\n",
      " [0 4 1]\n",
      " [0 0 7]]\n",
      "Accuracy: 81.875\n",
      "160\n",
      "[[1 0 6]\n",
      " [0 3 0]\n",
      " [0 0 6]]\n",
      "Accuracy: 76.25\n",
      "160\n",
      "[[3 0 4]\n",
      " [0 5 0]\n",
      " [0 0 4]]\n",
      "Accuracy: 75.0\n",
      "160\n",
      "[[0 0 2]\n",
      " [2 4 0]\n",
      " [0 0 8]]\n",
      "Accuracy: 81.25\n",
      "160\n",
      "[[4 0 2]\n",
      " [0 5 1]\n",
      " [0 0 4]]\n",
      "Accuracy: 81.875\n",
      "160\n",
      "[[4 0 3]\n",
      " [0 4 0]\n",
      " [0 0 5]]\n",
      "Accuracy: 84.375\n",
      "160\n",
      "[[2 0 2]\n",
      " [0 6 0]\n",
      " [0 0 6]]\n",
      "Accuracy: 75.625\n",
      "160\n",
      "[[3 0 3]\n",
      " [0 3 2]\n",
      " [0 0 5]]\n",
      "Accuracy: 80.625\n",
      "160\n",
      "[[4 0 0]\n",
      " [0 4 1]\n",
      " [0 0 7]]\n",
      "Accuracy: 79.375\n",
      "160\n",
      "[[1 0 4]\n",
      " [0 4 0]\n",
      " [0 0 7]]\n",
      "Accuracy: 80.625\n",
      "160\n",
      "[[5 0 2]\n",
      " [0 2 1]\n",
      " [0 0 6]]\n",
      "Accuracy: 82.5\n",
      "160\n",
      "[[1 1 2]\n",
      " [0 9 0]\n",
      " [0 0 3]]\n",
      "Accuracy: 82.5\n",
      "160\n",
      "[[2 0 4]\n",
      " [0 4 0]\n",
      " [0 0 6]]\n",
      "Accuracy: 77.5\n",
      "160\n",
      "[[3 0 1]\n",
      " [1 8 0]\n",
      " [0 0 3]]\n",
      "Accuracy: 78.125\n",
      "160\n",
      "[[2 0 0]\n",
      " [0 4 1]\n",
      " [0 0 9]]\n",
      "Accuracy: 85.0\n",
      "160\n",
      "[[3 0 4]\n",
      " [0 4 0]\n",
      " [0 0 5]]\n",
      "Accuracy: 75.625\n",
      "160\n",
      "[[1 0 2]\n",
      " [0 6 0]\n",
      " [0 0 7]]\n",
      "Accuracy: 86.25\n",
      "160\n",
      "[[2 0 4]\n",
      " [0 6 0]\n",
      " [0 0 4]]\n",
      "Accuracy: 81.25\n",
      "160\n",
      "[[ 2  0  2]\n",
      " [ 0  2  0]\n",
      " [ 0  0 10]]\n",
      "Accuracy: 78.75\n",
      "160\n",
      "[[2 0 2]\n",
      " [0 7 0]\n",
      " [0 0 5]]\n",
      "Accuracy: 83.125\n"
     ]
    }
   ],
   "source": [
    "accs = []\n",
    "for i in range(20):\n",
    "    _, acc, _, _ = test(net,datasets[0],batch_size=16,printr=True)\n",
    "    accs.append(acc)\n",
    "accs = np.array(accs)"
   ]
  },
  {
   "cell_type": "code",
   "execution_count": 21,
   "id": "6eaf99c8",
   "metadata": {},
   "outputs": [
    {
     "data": {
      "image/png": "[encoded data removed]",
      "text/plain": [
       "<Figure size 640x480 with 1 Axes>"
      ]
     },
     "metadata": {},
     "output_type": "display_data"
    }
   ],
   "source": [
    "plt.hist(accs)\n",
    "plt.show()"
   ]
  },
  {
   "cell_type": "code",
   "execution_count": 24,
   "id": "0e11b523",
   "metadata": {},
   "outputs": [
    {
     "data": {
      "text/plain": [
       "ResNet(\n",
       "  (conv1): Conv2d(3, 64, kernel_size=(7, 7), stride=(2, 2), padding=(3, 3), bias=False)\n",
       "  (bn1): BatchNorm2d(64, eps=1e-05, momentum=0.1, affine=True, track_running_stats=True)\n",
       "  (relu): ReLU(inplace=True)\n",
       "  (maxpool): MaxPool2d(kernel_size=3, stride=2, padding=1, dilation=1, ceil_mode=False)\n",
       "  (layer1): Sequential(\n",
       "    (0): BasicBlock(\n",
       "      (conv1): Conv2d(64, 64, kernel_size=(3, 3), stride=(1, 1), padding=(1, 1), bias=False)\n",
       "      (bn1): BatchNorm2d(64, eps=1e-05, momentum=0.1, affine=True, track_running_stats=True)\n",
       "      (relu): ReLU(inplace=True)\n",
       "      (conv2): Conv2d(64, 64, kernel_size=(3, 3), stride=(1, 1), padding=(1, 1), bias=False)\n",
       "      (bn2): BatchNorm2d(64, eps=1e-05, momentum=0.1, affine=True, track_running_stats=True)\n",
       "    )\n",
       "    (1): BasicBlock(\n",
       "      (conv1): Conv2d(64, 64, kernel_size=(3, 3), stride=(1, 1), padding=(1, 1), bias=False)\n",
       "      (bn1): BatchNorm2d(64, eps=1e-05, momentum=0.1, affine=True, track_running_stats=True)\n",
       "      (relu): ReLU(inplace=True)\n",
       "      (conv2): Conv2d(64, 64, kernel_size=(3, 3), stride=(1, 1), padding=(1, 1), bias=False)\n",
       "      (bn2): BatchNorm2d(64, eps=1e-05, momentum=0.1, affine=True, track_running_stats=True)\n",
       "    )\n",
       "  )\n",
       "  (layer2): Sequential(\n",
       "    (0): BasicBlock(\n",
       "      (conv1): Conv2d(64, 128, kernel_size=(3, 3), stride=(2, 2), padding=(1, 1), bias=False)\n",
       "      (bn1): BatchNorm2d(128, eps=1e-05, momentum=0.1, affine=True, track_running_stats=True)\n",
       "      (relu): ReLU(inplace=True)\n",
       "      (conv2): Conv2d(128, 128, kernel_size=(3, 3), stride=(1, 1), padding=(1, 1), bias=False)\n",
       "      (bn2): BatchNorm2d(128, eps=1e-05, momentum=0.1, affine=True, track_running_stats=True)\n",
       "      (downsample): Sequential(\n",
       "        (0): Conv2d(64, 128, kernel_size=(1, 1), stride=(2, 2), bias=False)\n",
       "        (1): BatchNorm2d(128, eps=1e-05, momentum=0.1, affine=True, track_running_stats=True)\n",
       "      )\n",
       "    )\n",
       "    (1): BasicBlock(\n",
       "      (conv1): Conv2d(128, 128, kernel_size=(3, 3), stride=(1, 1), padding=(1, 1), bias=False)\n",
       "      (bn1): BatchNorm2d(128, eps=1e-05, momentum=0.1, affine=True, track_running_stats=True)\n",
       "      (relu): ReLU(inplace=True)\n",
       "      (conv2): Conv2d(128, 128, kernel_size=(3, 3), stride=(1, 1), padding=(1, 1), bias=False)\n",
       "      (bn2): BatchNorm2d(128, eps=1e-05, momentum=0.1, affine=True, track_running_stats=True)\n",
       "    )\n",
       "  )\n",
       "  (layer3): Sequential(\n",
       "    (0): BasicBlock(\n",
       "      (conv1): Conv2d(128, 256, kernel_size=(3, 3), stride=(2, 2), padding=(1, 1), bias=False)\n",
       "      (bn1): BatchNorm2d(256, eps=1e-05, momentum=0.1, affine=True, track_running_stats=True)\n",
       "      (relu): ReLU(inplace=True)\n",
       "      (conv2): Conv2d(256, 256, kernel_size=(3, 3), stride=(1, 1), padding=(1, 1), bias=False)\n",
       "      (bn2): BatchNorm2d(256, eps=1e-05, momentum=0.1, affine=True, track_running_stats=True)\n",
       "      (downsample): Sequential(\n",
       "        (0): Conv2d(128, 256, kernel_size=(1, 1), stride=(2, 2), bias=False)\n",
       "        (1): BatchNorm2d(256, eps=1e-05, momentum=0.1, affine=True, track_running_stats=True)\n",
       "      )\n",
       "    )\n",
       "    (1): BasicBlock(\n",
       "      (conv1): Conv2d(256, 256, kernel_size=(3, 3), stride=(1, 1), padding=(1, 1), bias=False)\n",
       "      (bn1): BatchNorm2d(256, eps=1e-05, momentum=0.1, affine=True, track_running_stats=True)\n",
       "      (relu): ReLU(inplace=True)\n",
       "      (conv2): Conv2d(256, 256, kernel_size=(3, 3), stride=(1, 1), padding=(1, 1), bias=False)\n",
       "      (bn2): BatchNorm2d(256, eps=1e-05, momentum=0.1, affine=True, track_running_stats=True)\n",
       "    )\n",
       "  )\n",
       "  (layer4): Sequential(\n",
       "    (0): BasicBlock(\n",
       "      (conv1): Conv2d(256, 512, kernel_size=(3, 3), stride=(2, 2), padding=(1, 1), bias=False)\n",
       "      (bn1): BatchNorm2d(512, eps=1e-05, momentum=0.1, affine=True, track_running_stats=True)\n",
       "      (relu): ReLU(inplace=True)\n",
       "      (conv2): Conv2d(512, 512, kernel_size=(3, 3), stride=(1, 1), padding=(1, 1), bias=False)\n",
       "      (bn2): BatchNorm2d(512, eps=1e-05, momentum=0.1, affine=True, track_running_stats=True)\n",
       "      (downsample): Sequential(\n",
       "        (0): Conv2d(256, 512, kernel_size=(1, 1), stride=(2, 2), bias=False)\n",
       "        (1): BatchNorm2d(512, eps=1e-05, momentum=0.1, affine=True, track_running_stats=True)\n",
       "      )\n",
       "    )\n",
       "    (1): BasicBlock(\n",
       "      (conv1): Conv2d(512, 512, kernel_size=(3, 3), stride=(1, 1), padding=(1, 1), bias=False)\n",
       "      (bn1): BatchNorm2d(512, eps=1e-05, momentum=0.1, affine=True, track_running_stats=True)\n",
       "      (relu): ReLU(inplace=True)\n",
       "      (conv2): Conv2d(512, 512, kernel_size=(3, 3), stride=(1, 1), padding=(1, 1), bias=False)\n",
       "      (bn2): BatchNorm2d(512, eps=1e-05, momentum=0.1, affine=True, track_running_stats=True)\n",
       "    )\n",
       "  )\n",
       "  (avgpool): AdaptiveAvgPool2d(output_size=(1, 1))\n",
       "  (fc): Linear(in_features=512, out_features=1000, bias=True)\n",
       ")"
      ]
     },
     "execution_count": 24,
     "metadata": {},
     "output_type": "execute_result"
    }
   ],
   "source": [
    "net"
   ]
  },
  {
   "cell_type": "code",
   "execution_count": null,
   "id": "a4d8e7e2",
   "metadata": {},
   "outputs": [],
   "source": []
  }
 ],
 "metadata": {
  "kernelspec": {
   "display_name": "Python 3 (ipykernel)",
   "language": "python",
   "name": "python3"
  },
  "language_info": {
   "codemirror_mode": {
    "name": "ipython",
    "version": 3
   },
   "file_extension": ".py",
   "mimetype": "text/x-python",
   "name": "python",
   "nbconvert_exporter": "python",
   "pygments_lexer": "ipython3",
   "version": "3.10.12"
  }
 },
 "nbformat": 4,
 "nbformat_minor": 5
}
